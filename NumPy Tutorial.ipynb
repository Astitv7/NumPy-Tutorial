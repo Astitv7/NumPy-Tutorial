{
 "cells": [
  {
   "cell_type": "markdown",
   "metadata": {},
   "source": [
    "## What are NumPy Arrays ?"
   ]
  },
  {
   "cell_type": "markdown",
   "metadata": {},
   "source": [
    "NumPy is a Python package that stands for ‘Numerical Python’.It is the core library for scientific computing, which contains a powerful n-dimensional array object, provide tools for integrating C, C++ etc.It is also useful in linear algebra, random number capability etc. NumPy array can also be used as an efficient multi-dimensional container for generic data."
   ]
  },
  {
   "cell_type": "markdown",
   "metadata": {},
   "source": [
    "**NumPy Array:** Numpy array is a powerful N-dimensional array object which is in the form of rows and columns. We can initialize NumPy arrays from nested Python lists and access it elements."
   ]
  },
  {
   "cell_type": "markdown",
   "metadata": {},
   "source": [
    "![](NumPy-array.png)"
   ]
  },
  {
   "cell_type": "code",
   "execution_count": 1,
   "metadata": {},
   "outputs": [],
   "source": [
    "# Import NumPy library\n",
    "import numpy as np"
   ]
  },
  {
   "cell_type": "markdown",
   "metadata": {},
   "source": [
    "## Single & Multi-dimensional Numpy Array:"
   ]
  },
  {
   "cell_type": "code",
   "execution_count": 2,
   "metadata": {},
   "outputs": [
    {
     "name": "stdout",
     "output_type": "stream",
     "text": [
      "[1 2 3]\n"
     ]
    }
   ],
   "source": [
    "# Single dimensional array\n",
    "a = np.array([1,2,3])\n",
    "print(a)"
   ]
  },
  {
   "cell_type": "code",
   "execution_count": 3,
   "metadata": {},
   "outputs": [
    {
     "name": "stdout",
     "output_type": "stream",
     "text": [
      "[[1 2 3]\n",
      " [4 5 6]]\n"
     ]
    }
   ],
   "source": [
    "# Multi-dimensional array\n",
    "b = np.array([(1,2,3),(4,5,6)])    # np.array([[1,2,3],[4,5,6]])\n",
    "print(b)"
   ]
  },
  {
   "cell_type": "code",
   "execution_count": 4,
   "metadata": {},
   "outputs": [
    {
     "name": "stdout",
     "output_type": "stream",
     "text": [
      "<class 'numpy.ndarray'>\n",
      "<class 'numpy.ndarray'>\n"
     ]
    }
   ],
   "source": [
    "# Data type of array object\n",
    "print(type(a))\n",
    "print(type(b))"
   ]
  },
  {
   "cell_type": "markdown",
   "metadata": {},
   "source": [
    "## NumPy Array v/s List"
   ]
  },
  {
   "cell_type": "markdown",
   "metadata": {},
   "source": [
    "We use python NumPy array instead of a list because of the below three reasons:\n",
    "\n",
    "1. Less Memory\n",
    "2. Fast\n",
    "3. Convenient\n",
    "\n",
    "The very first reason to choose python NumPy array is that it occupies less memory as compared to list. Then, it is pretty fast in terms of execution and at the same time, it is very convenient to work with NumPy. So these are the major advantages that Python NumPy array has over list."
   ]
  },
  {
   "cell_type": "markdown",
   "metadata": {},
   "source": [
    "## Python NumPy Operation"
   ]
  },
  {
   "cell_type": "markdown",
   "metadata": {},
   "source": [
    "**1. ndim :** You can find the dimension of the array, whether it is a two-dimensional array or a single dimensional array."
   ]
  },
  {
   "cell_type": "code",
   "execution_count": 5,
   "metadata": {},
   "outputs": [
    {
     "name": "stdout",
     "output_type": "stream",
     "text": [
      "2\n"
     ]
    }
   ],
   "source": [
    "c = np.array([(1,2,3),(4,5,6),(7,8,9)])\n",
    "print(c.ndim)     #Since the output is 2, it is a two-dimensional array (multi dimension)"
   ]
  },
  {
   "cell_type": "markdown",
   "metadata": {},
   "source": [
    "**2. itemsize :** You can calculate the byte size of each element."
   ]
  },
  {
   "cell_type": "code",
   "execution_count": 6,
   "metadata": {},
   "outputs": [
    {
     "name": "stdout",
     "output_type": "stream",
     "text": [
      "4\n"
     ]
    }
   ],
   "source": [
    "d = np.array([4,6,7])\n",
    "print(d.itemsize)   #So every element occupies 4 byte in the above numpy array."
   ]
  },
  {
   "cell_type": "markdown",
   "metadata": {},
   "source": [
    "**3. dtype :** You can find the data type of the elements that are stored in an array. So, if you want to know the data type of a particular element, you can use ‘dtype’ function which will print the datatype along with the size."
   ]
  },
  {
   "cell_type": "code",
   "execution_count": 7,
   "metadata": {},
   "outputs": [
    {
     "name": "stdout",
     "output_type": "stream",
     "text": [
      "float64\n"
     ]
    }
   ],
   "source": [
    "x = np.array([1.7,7.6,3.1,9.5])\n",
    "print(x.dtype)"
   ]
  },
  {
   "cell_type": "code",
   "execution_count": 8,
   "metadata": {},
   "outputs": [
    {
     "name": "stdout",
     "output_type": "stream",
     "text": [
      "6\n",
      "(2, 3)\n"
     ]
    }
   ],
   "source": [
    "#Calculating size and shape of an array\n",
    "x = np.array([(9,3,6),(3,5,6)])\n",
    "print(x.size)\n",
    "print(x.shape)"
   ]
  },
  {
   "cell_type": "markdown",
   "metadata": {},
   "source": [
    "**4. reshape :** Reshape is when you change the number of rows and columns which gives a new view to an object. "
   ]
  },
  {
   "cell_type": "code",
   "execution_count": 9,
   "metadata": {},
   "outputs": [
    {
     "name": "stdout",
     "output_type": "stream",
     "text": [
      "[[ 8  9 10]\n",
      " [11 12 13]]\n",
      "--------------------\n",
      "[[ 8  9]\n",
      " [10 11]\n",
      " [12 13]]\n"
     ]
    }
   ],
   "source": [
    "a = np.array([(8,9,10),(11,12,13)])\n",
    "print(a)\n",
    "b = a.reshape(3,2)\n",
    "print('-'*20)\n",
    "print(b)"
   ]
  },
  {
   "cell_type": "markdown",
   "metadata": {},
   "source": [
    "**5. Slicing :** Slicing is basically extracting particular set of elements from an array. This slicing operation is pretty much similar to the one which is there in the list as well."
   ]
  },
  {
   "cell_type": "code",
   "execution_count": 10,
   "metadata": {},
   "outputs": [
    {
     "name": "stdout",
     "output_type": "stream",
     "text": [
      "3\n"
     ]
    }
   ],
   "source": [
    "# We have an array and we need a particular element (say 3) out of a given array.\n",
    "x = np.array([(2,5,7,6),(7,6,3,6)])\n",
    "print(x[1,2])\n",
    "#Here, the array(2,5,7,6) is your index 0 and (7,6,3,6) is index 1 of the python numpy array. \n",
    "#Therefore, we have printed the second element from the 1th index."
   ]
  },
  {
   "cell_type": "code",
   "execution_count": 11,
   "metadata": {},
   "outputs": [
    {
     "name": "stdout",
     "output_type": "stream",
     "text": [
      "[ 4  7 10]\n"
     ]
    }
   ],
   "source": [
    "#let’s say we need the 2nd element from the all index of the array\n",
    "x = np.array([(2,3,4,2),(5,6,7,2),(8,9,10,2)])\n",
    "print(x[0:,2])\n",
    "# Here colon represents all the rows, including zero. \n",
    "# Now to get the 2nd element, we’ll call index 2 from all of the rows which gives us the value 4,7 and 10 ."
   ]
  },
  {
   "cell_type": "code",
   "execution_count": 12,
   "metadata": {},
   "outputs": [
    {
     "name": "stdout",
     "output_type": "stream",
     "text": [
      "[ 9 11]\n"
     ]
    }
   ],
   "source": [
    "x = np.array([(8,9),(10,11),(12,13)])\n",
    "print(x[0:2,1])\n",
    "#As you can see in the above code, only 9 and 11 gets printed. Now when I have written 0:2, this does not include the second index of the third row of an array. \n",
    "#Therefore, only 9 and 11 gets printed else you will get all the elements i.e [9 11 13]."
   ]
  },
  {
   "cell_type": "markdown",
   "metadata": {},
   "source": [
    "**6. linspace :** This is another operation in python numpy which returns evenly spaced numbers over a specified interval."
   ]
  },
  {
   "cell_type": "code",
   "execution_count": 13,
   "metadata": {},
   "outputs": [
    {
     "name": "stdout",
     "output_type": "stream",
     "text": [
      "[1.         1.22222222 1.44444444 1.66666667 1.88888889 2.11111111\n",
      " 2.33333333 2.55555556 2.77777778 3.        ]\n"
     ]
    }
   ],
   "source": [
    "# it will print 10 values between 1 to 3.\n",
    "x = np.linspace(1,3,10)\n",
    "print(x)"
   ]
  },
  {
   "cell_type": "markdown",
   "metadata": {},
   "source": [
    "**7. min/ max/ sum :**"
   ]
  },
  {
   "cell_type": "code",
   "execution_count": 14,
   "metadata": {},
   "outputs": [
    {
     "name": "stdout",
     "output_type": "stream",
     "text": [
      "2\n",
      "8\n",
      "41\n"
     ]
    }
   ],
   "source": [
    "x = np.array([(2,4,6),(5,7,2),(8,4,3)])\n",
    "print(x.min())\n",
    "print(x.max())\n",
    "print(x.sum())"
   ]
  },
  {
   "cell_type": "code",
   "execution_count": 15,
   "metadata": {},
   "outputs": [
    {
     "name": "stdout",
     "output_type": "stream",
     "text": [
      "[15 15 11]\n",
      "---------------\n",
      "[12 14 15]\n"
     ]
    }
   ],
   "source": [
    "# Sum along the axis of an array\n",
    "print(x.sum(axis = 0))\n",
    "print('-'*15)\n",
    "print(x.sum(axis = 1))"
   ]
  },
  {
   "cell_type": "markdown",
   "metadata": {},
   "source": [
    "**8. Square root & Standard Deviation**"
   ]
  },
  {
   "cell_type": "code",
   "execution_count": 16,
   "metadata": {},
   "outputs": [
    {
     "name": "stdout",
     "output_type": "stream",
     "text": [
      "[[2.44948974 2.         2.44948974]\n",
      " [1.73205081 2.23606798 2.82842712]\n",
      " [3.         2.44948974 2.        ]]\n",
      "---------------\n",
      "1.8257418583505538\n"
     ]
    }
   ],
   "source": [
    "x = np.array([(6,4,6),(3,5,8),(9,6,4)])\n",
    "print(np.sqrt(x))   # square root\n",
    "print('-'*15)\n",
    "print(np.std(x))   # standard deviation"
   ]
  },
  {
   "cell_type": "markdown",
   "metadata": {},
   "source": [
    "**9. Arithematic operations**"
   ]
  },
  {
   "cell_type": "code",
   "execution_count": 17,
   "metadata": {},
   "outputs": [
    {
     "name": "stdout",
     "output_type": "stream",
     "text": [
      "[[ 3  5  7]\n",
      " [ 9 11 13]]\n",
      "--------------------\n",
      "[[-1 -1 -1]\n",
      " [-1 -1 -1]]\n",
      "--------------------\n",
      "[[ 2  6 12]\n",
      " [20 30 42]]\n",
      "--------------------\n",
      "[[2.         1.5        1.33333333]\n",
      " [1.25       1.2        1.16666667]]\n"
     ]
    }
   ],
   "source": [
    "x = np.array([(1,2,3),(4,5,6)])\n",
    "y = np.array([(2,3,4),(5,6,7)])\n",
    "print(x + y)  # addition\n",
    "print('-'*20)\n",
    "print(x-y)    # subtraction\n",
    "print('-'*20)\n",
    "print(x*y)    # Multiplication\n",
    "print('-'*20)\n",
    "print(y/x)    # Division"
   ]
  },
  {
   "cell_type": "markdown",
   "metadata": {},
   "source": [
    "**10. Vertical & Horizontal Stacking :** if you want to concatenate two arrays and not just add them, you can perform it using two ways – vertical stacking and horizontal stacking."
   ]
  },
  {
   "cell_type": "code",
   "execution_count": 18,
   "metadata": {},
   "outputs": [
    {
     "name": "stdout",
     "output_type": "stream",
     "text": [
      "[[ 1  2  3]\n",
      " [ 4  5  6]\n",
      " [ 7  8  9]\n",
      " [10 11 12]]\n",
      "---------------\n",
      "[[ 1  2  3  7  8  9]\n",
      " [ 4  5  6 10 11 12]]\n"
     ]
    }
   ],
   "source": [
    "x = np.array([(1,2,3),(4,5,6)])\n",
    "y = np.array([(7,8,9),(10,11,12)])\n",
    "print(np.vstack((x,y)))\n",
    "print('-'*15)\n",
    "print(np.hstack((x,y)))"
   ]
  },
  {
   "cell_type": "markdown",
   "metadata": {},
   "source": [
    "**11. ravel :** There is one more operation where you can convert one numpy array into a single column."
   ]
  },
  {
   "cell_type": "code",
   "execution_count": 19,
   "metadata": {},
   "outputs": [
    {
     "name": "stdout",
     "output_type": "stream",
     "text": [
      "[2 3 4 5 6 8]\n"
     ]
    }
   ],
   "source": [
    "x = np.array([(2,3,4),(5,6,8)])\n",
    "print(x.ravel())"
   ]
  },
  {
   "cell_type": "markdown",
   "metadata": {},
   "source": [
    "**12. Sorting :** \n",
    "- Sorting means putting elements in a ordered sequence.\n",
    "\n",
    "- Ordered sequence is any sequence that has an order corresponding to elements, like numeric or alphabetical, ascending or descending.\n",
    "\n",
    "- The NumPy ndarray object has a function called **sort()**, that will sort a specified array."
   ]
  },
  {
   "cell_type": "code",
   "execution_count": 20,
   "metadata": {},
   "outputs": [
    {
     "name": "stdout",
     "output_type": "stream",
     "text": [
      "Sorted array : [3 5 6 7 7 9]\n",
      "Original array : [7 5 9 3 6 7]\n"
     ]
    }
   ],
   "source": [
    "# Sorting 1-D array\n",
    "x = np.array([7,5,9,3,6,7])\n",
    "print('Sorted array :', np.sort(x))\n",
    "print('Original array :', x)"
   ]
  },
  {
   "cell_type": "markdown",
   "metadata": {},
   "source": [
    "**Note:** This method returns a copy of the array, leaving the original array unchanged."
   ]
  },
  {
   "cell_type": "code",
   "execution_count": 21,
   "metadata": {},
   "outputs": [
    {
     "name": "stdout",
     "output_type": "stream",
     "text": [
      "[[4 5 8]\n",
      " [3 6 9]]\n",
      "---------------\n",
      "[[5 4 8]\n",
      " [9 3 6]]\n"
     ]
    }
   ],
   "source": [
    "# Sorting a 2-D array\n",
    "x = np.array([(5,4,8),(9,3,6)])\n",
    "print( np.sort(x))\n",
    "print('-'*15)\n",
    "print( x)"
   ]
  },
  {
   "cell_type": "markdown",
   "metadata": {},
   "source": [
    "## NumPy Array Iterating"
   ]
  },
  {
   "cell_type": "markdown",
   "metadata": {},
   "source": [
    "**Iterating Arrays**\n",
    "- Iterating means going through elements one by one.\n",
    "- As we deal with multi-dimensional arrays in numpy, we can do this using basic **'for'** loop of python.\n",
    "- If we iterate on a 1-D array it will go through each element one by one"
   ]
  },
  {
   "cell_type": "code",
   "execution_count": 22,
   "metadata": {},
   "outputs": [
    {
     "name": "stdout",
     "output_type": "stream",
     "text": [
      "2\n",
      "4\n",
      "5\n",
      "6\n",
      "7\n",
      "8\n",
      "9\n"
     ]
    }
   ],
   "source": [
    "# Iterate on the elements on 1-D array\n",
    "arr = np.array([2,4,5,6,7,8,9])\n",
    "\n",
    "for x in arr:\n",
    "    print(x)"
   ]
  },
  {
   "cell_type": "code",
   "execution_count": 23,
   "metadata": {},
   "outputs": [
    {
     "name": "stdout",
     "output_type": "stream",
     "text": [
      "[1 2 3]\n",
      "[4 5 6]\n"
     ]
    }
   ],
   "source": [
    "# Iterate in 2-D array\n",
    "arr = np.array([(1,2,3),(4,5,6)])\n",
    "\n",
    "# In a 2-D array it will go through all the rows\n",
    "for x in arr:\n",
    "    print(x)"
   ]
  },
  {
   "cell_type": "code",
   "execution_count": 24,
   "metadata": {},
   "outputs": [
    {
     "name": "stdout",
     "output_type": "stream",
     "text": [
      "1\n",
      "2\n",
      "3\n",
      "6\n",
      "7\n",
      "8\n"
     ]
    }
   ],
   "source": [
    "# To return the actual values, the scalars, we have to iterate the arrays in each dimension.\n",
    "# Iterate on each scalar element of the 2-D array:\n",
    "\n",
    "arr = np.array([(1,2,3),(6,7,8)])  \n",
    "\n",
    "for x in arr:\n",
    "    for y in x:\n",
    "        print(y)"
   ]
  },
  {
   "cell_type": "code",
   "execution_count": 25,
   "metadata": {},
   "outputs": [
    {
     "name": "stdout",
     "output_type": "stream",
     "text": [
      "[[[ 1  2  3]\n",
      "  [ 4  5  6]]\n",
      "\n",
      " [[ 7  8  9]\n",
      "  [10 11 12]]]\n",
      "---------------\n",
      "[[1 2 3]\n",
      " [4 5 6]]\n",
      "[[ 7  8  9]\n",
      " [10 11 12]]\n",
      "---------------\n",
      "1\n",
      "2\n",
      "3\n",
      "4\n",
      "5\n",
      "6\n",
      "7\n",
      "8\n",
      "9\n",
      "10\n",
      "11\n",
      "12\n"
     ]
    }
   ],
   "source": [
    "# Iterating 3-D array\n",
    "arr = np.array([[[1, 2, 3], [4, 5, 6]], [[7, 8, 9], [10, 11, 12]]])\n",
    "print(arr)\n",
    "print('-'*15)\n",
    "\n",
    "# In a 3-D array it will go through all the 2-D arrays.\n",
    "for x in arr:\n",
    "    print(x)\n",
    "       \n",
    "print('-'*15)    \n",
    "#To return the actual values, the scalars, we have to iterate the arrays in each dimension.\n",
    "arr1 =  np.array([[[1, 2, 3], [4, 5, 6]], [[7, 8, 9], [10, 11, 12]]])\n",
    "for x in arr1:\n",
    "    for y in x:\n",
    "        for z in y:\n",
    "            print(z)\n",
    "\n"
   ]
  },
  {
   "cell_type": "markdown",
   "metadata": {},
   "source": [
    "### **Iterating arrays using nditer()**\n"
   ]
  },
  {
   "cell_type": "markdown",
   "metadata": {},
   "source": [
    "The function **nditer()** is a helping function that can be used from very basic to very advanced iterations. It solves some basic issues which we face in iteration"
   ]
  },
  {
   "cell_type": "markdown",
   "metadata": {},
   "source": [
    "**Iterating on Each Scalar Element**\n",
    "- In basic for loops, iterating through each scalar of an array we need to use n for loops which can be difficult to write for arrays with very high dimensionality."
   ]
  },
  {
   "cell_type": "code",
   "execution_count": 26,
   "metadata": {},
   "outputs": [
    {
     "name": "stdout",
     "output_type": "stream",
     "text": [
      "1\n",
      "2\n",
      "3\n",
      "4\n",
      "5\n",
      "6\n",
      "7\n",
      "8\n"
     ]
    }
   ],
   "source": [
    "# Iterate through the following 3-D array:\n",
    "arr = np.array([[[1,2],[3,4]],[[5,6],[7,8]]])\n",
    "\n",
    "for x in np.nditer(arr):\n",
    "    print(x)"
   ]
  },
  {
   "cell_type": "code",
   "execution_count": 27,
   "metadata": {},
   "outputs": [
    {
     "name": "stdout",
     "output_type": "stream",
     "text": [
      "1\n",
      "4\n",
      "6\n",
      "9\n"
     ]
    }
   ],
   "source": [
    "# Iterate through every scalar element of the 2D array skipping 1 element\n",
    "arr = np.array([(1,3,4),(6,8,9)])\n",
    "\n",
    "for x in np.nditer(arr[:,::2]):\n",
    "    print(x)"
   ]
  },
  {
   "cell_type": "markdown",
   "metadata": {},
   "source": [
    "### Enumerated Iteration Using ndenumerate()"
   ]
  },
  {
   "cell_type": "markdown",
   "metadata": {},
   "source": [
    "- **Enumeration** means mentioning sequence number of somethings one by one.\n",
    "\n",
    "- Sometimes we require corresponding index of the element while iterating, the **ndenumerate()** method can be used for those usecases."
   ]
  },
  {
   "cell_type": "code",
   "execution_count": 28,
   "metadata": {},
   "outputs": [
    {
     "name": "stdout",
     "output_type": "stream",
     "text": [
      "(0, 0) 1\n",
      "(0, 1) 2\n",
      "(0, 2) 3\n",
      "(1, 0) 4\n",
      "(1, 1) 5\n",
      "(1, 2) 6\n"
     ]
    }
   ],
   "source": [
    "arr = np.array([(1,2,3),(4,5,6)])\n",
    "\n",
    "for index,values in np.ndenumerate(arr):\n",
    "    print(index,values)"
   ]
  },
  {
   "cell_type": "markdown",
   "metadata": {},
   "source": [
    "## Random Numbers in NumPy"
   ]
  },
  {
   "cell_type": "markdown",
   "metadata": {},
   "source": [
    "- Random number does NOT mean a different number every time. Random means something that can not be predicted logically.\n",
    "- Computers work on programs, and programs are definitive set of instructions. So it means there must be some algorithm to generate a random number as well.\n",
    "- If there is a program to generate random number it can be predicted, thus it is not truly random.\n",
    "- Random numbers generated through a generation algorithm are called **pseudo random**."
   ]
  },
  {
   "cell_type": "markdown",
   "metadata": {},
   "source": [
    "### Generate Random Number"
   ]
  },
  {
   "cell_type": "markdown",
   "metadata": {},
   "source": [
    "NumPy offers the **random** module to work with random numbers."
   ]
  },
  {
   "cell_type": "code",
   "execution_count": 29,
   "metadata": {},
   "outputs": [],
   "source": [
    "from numpy import random"
   ]
  },
  {
   "cell_type": "code",
   "execution_count": 30,
   "metadata": {},
   "outputs": [
    {
     "name": "stdout",
     "output_type": "stream",
     "text": [
      "[59  0]\n"
     ]
    }
   ],
   "source": [
    "# Generate a 2 random integers from 0 to 100:\n",
    "# low value is inclusive and high value is exclusive, size parameter where you can specify the shape of an array.\n",
    "x = random.randint(low = 0,high = 100,size =2)\n",
    "print(x)"
   ]
  },
  {
   "cell_type": "code",
   "execution_count": 31,
   "metadata": {},
   "outputs": [
    {
     "name": "stdout",
     "output_type": "stream",
     "text": [
      "0.12321322033598558\n"
     ]
    }
   ],
   "source": [
    "# Q. Generate a random float from 0 to 1:\n",
    "# Answer : The random module's rand() method returns a random float between 0 and 1.\n",
    "\n",
    "x = random.rand()\n",
    "print(x)"
   ]
  },
  {
   "cell_type": "code",
   "execution_count": 32,
   "metadata": {},
   "outputs": [
    {
     "name": "stdout",
     "output_type": "stream",
     "text": [
      "[0.93955698 0.6147055  0.36375717 0.50443324 0.57969228]\n"
     ]
    }
   ],
   "source": [
    "# Generate a 1-D array containing 5 random floats between 0 to 1.\n",
    "x = random.rand(5)\n",
    "print(x)"
   ]
  },
  {
   "cell_type": "code",
   "execution_count": 33,
   "metadata": {},
   "outputs": [
    {
     "name": "stdout",
     "output_type": "stream",
     "text": [
      "[[0.12797799 0.66590167 0.63768217 0.64918426 0.9649663 ]\n",
      " [0.54417789 0.94175647 0.30723866 0.62604555 0.93906012]\n",
      " [0.97683691 0.86626547 0.88171246 0.14126429 0.21059001]]\n"
     ]
    }
   ],
   "source": [
    "# Generate a 2-D array with 3 rows, each row containing 5 random floats between 0 to 1.\n",
    "x = random.rand(3,5)\n",
    "print(x)"
   ]
  },
  {
   "cell_type": "code",
   "execution_count": null,
   "metadata": {},
   "outputs": [],
   "source": []
  },
  {
   "cell_type": "code",
   "execution_count": null,
   "metadata": {},
   "outputs": [],
   "source": []
  }
 ],
 "metadata": {
  "kernelspec": {
   "display_name": "Python 3",
   "language": "python",
   "name": "python3"
  },
  "language_info": {
   "codemirror_mode": {
    "name": "ipython",
    "version": 3
   },
   "file_extension": ".py",
   "mimetype": "text/x-python",
   "name": "python",
   "nbconvert_exporter": "python",
   "pygments_lexer": "ipython3",
   "version": "3.8.3"
  }
 },
 "nbformat": 4,
 "nbformat_minor": 4
}
